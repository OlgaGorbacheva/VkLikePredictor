{
 "cells": [
  {
   "cell_type": "code",
   "execution_count": 3,
   "metadata": {
    "collapsed": false
   },
   "outputs": [],
   "source": [
    "%matplotlib inline\n",
    "\n",
    "import numpy as np\n",
    "import pandas as pd\n",
    "import matplotlib.pyplot as plt"
   ]
  },
  {
   "cell_type": "code",
   "execution_count": 4,
   "metadata": {
    "collapsed": false
   },
   "outputs": [
    {
     "data": {
      "text/html": [
       "<div>\n",
       "<style scoped>\n",
       "    .dataframe tbody tr th:only-of-type {\n",
       "        vertical-align: middle;\n",
       "    }\n",
       "\n",
       "    .dataframe tbody tr th {\n",
       "        vertical-align: top;\n",
       "    }\n",
       "\n",
       "    .dataframe thead th {\n",
       "        text-align: right;\n",
       "    }\n",
       "</style>\n",
       "<table border=\"1\" class=\"dataframe\">\n",
       "  <thead>\n",
       "    <tr style=\"text-align: right;\">\n",
       "      <th></th>\n",
       "      <th>uid</th>\n",
       "      <th>friends</th>\n",
       "      <th>pages</th>\n",
       "      <th>sex</th>\n",
       "      <th>timestamp</th>\n",
       "      <th>user_photos</th>\n",
       "      <th>audios</th>\n",
       "      <th>videos</th>\n",
       "      <th>groups</th>\n",
       "      <th>likes</th>\n",
       "      <th>gifts</th>\n",
       "      <th>followers</th>\n",
       "      <th>photos</th>\n",
       "    </tr>\n",
       "  </thead>\n",
       "  <tbody>\n",
       "    <tr>\n",
       "      <th>0</th>\n",
       "      <td>84</td>\n",
       "      <td>267</td>\n",
       "      <td>2564</td>\n",
       "      <td>2</td>\n",
       "      <td>1519387370</td>\n",
       "      <td>NaN</td>\n",
       "      <td>870</td>\n",
       "      <td>46</td>\n",
       "      <td>NaN</td>\n",
       "      <td>2655</td>\n",
       "      <td>NaN</td>\n",
       "      <td>20108</td>\n",
       "      <td>573</td>\n",
       "    </tr>\n",
       "    <tr>\n",
       "      <th>1</th>\n",
       "      <td>176</td>\n",
       "      <td>39</td>\n",
       "      <td>16</td>\n",
       "      <td>2</td>\n",
       "      <td>1462375449</td>\n",
       "      <td>NaN</td>\n",
       "      <td>41</td>\n",
       "      <td>619</td>\n",
       "      <td>NaN</td>\n",
       "      <td>124</td>\n",
       "      <td>120.0</td>\n",
       "      <td>13</td>\n",
       "      <td>251</td>\n",
       "    </tr>\n",
       "    <tr>\n",
       "      <th>2</th>\n",
       "      <td>177</td>\n",
       "      <td>0</td>\n",
       "      <td>536</td>\n",
       "      <td>1</td>\n",
       "      <td>1506171506</td>\n",
       "      <td>NaN</td>\n",
       "      <td>23</td>\n",
       "      <td>1</td>\n",
       "      <td>NaN</td>\n",
       "      <td>2670</td>\n",
       "      <td>25.0</td>\n",
       "      <td>27203</td>\n",
       "      <td>24</td>\n",
       "    </tr>\n",
       "    <tr>\n",
       "      <th>3</th>\n",
       "      <td>243</td>\n",
       "      <td>733</td>\n",
       "      <td>172</td>\n",
       "      <td>1</td>\n",
       "      <td>1523287614</td>\n",
       "      <td>NaN</td>\n",
       "      <td>554</td>\n",
       "      <td>135</td>\n",
       "      <td>NaN</td>\n",
       "      <td>397</td>\n",
       "      <td>722.0</td>\n",
       "      <td>14697</td>\n",
       "      <td>566</td>\n",
       "    </tr>\n",
       "    <tr>\n",
       "      <th>4</th>\n",
       "      <td>279</td>\n",
       "      <td>539</td>\n",
       "      <td>78</td>\n",
       "      <td>1</td>\n",
       "      <td>1384109611</td>\n",
       "      <td>NaN</td>\n",
       "      <td>0</td>\n",
       "      <td>245</td>\n",
       "      <td>NaN</td>\n",
       "      <td>1958</td>\n",
       "      <td>NaN</td>\n",
       "      <td>5022</td>\n",
       "      <td>1567</td>\n",
       "    </tr>\n",
       "  </tbody>\n",
       "</table>\n",
       "</div>"
      ],
      "text/plain": [
       "   uid  friends  pages  sex   timestamp  user_photos  audios  videos  groups  \\\n",
       "0   84      267   2564    2  1519387370          NaN     870      46     NaN   \n",
       "1  176       39     16    2  1462375449          NaN      41     619     NaN   \n",
       "2  177        0    536    1  1506171506          NaN      23       1     NaN   \n",
       "3  243      733    172    1  1523287614          NaN     554     135     NaN   \n",
       "4  279      539     78    1  1384109611          NaN       0     245     NaN   \n",
       "\n",
       "   likes  gifts  followers  photos  \n",
       "0   2655    NaN      20108     573  \n",
       "1    124  120.0         13     251  \n",
       "2   2670   25.0      27203      24  \n",
       "3    397  722.0      14697     566  \n",
       "4   1958    NaN       5022    1567  "
      ]
     },
     "execution_count": 4,
     "metadata": {},
     "output_type": "execute_result"
    }
   ],
   "source": [
    "df = pd.read_csv('data.csv')\n",
    "df.head()"
   ]
  },
  {
   "cell_type": "code",
   "execution_count": 5,
   "metadata": {
    "collapsed": true
   },
   "outputs": [],
   "source": [
    "nan = df.isnull().sum()"
   ]
  },
  {
   "cell_type": "code",
   "execution_count": 6,
   "metadata": {
    "collapsed": false
   },
   "outputs": [
    {
     "data": {
      "text/plain": [
       "uid               0\n",
       "friends           0\n",
       "pages             0\n",
       "sex               0\n",
       "timestamp         0\n",
       "user_photos    8357\n",
       "audios            0\n",
       "videos            0\n",
       "groups         8350\n",
       "likes             0\n",
       "gifts          6482\n",
       "followers         0\n",
       "photos            0\n",
       "dtype: int64"
      ]
     },
     "execution_count": 6,
     "metadata": {},
     "output_type": "execute_result"
    }
   ],
   "source": [
    "nan"
   ]
  },
  {
   "cell_type": "code",
   "execution_count": 7,
   "metadata": {
    "collapsed": false
   },
   "outputs": [
    {
     "data": {
      "text/plain": [
       "8933"
      ]
     },
     "execution_count": 7,
     "metadata": {},
     "output_type": "execute_result"
    }
   ],
   "source": [
    "len(df)"
   ]
  },
  {
   "cell_type": "code",
   "execution_count": null,
   "metadata": {
    "collapsed": true
   },
   "outputs": [],
   "source": []
  }
 ],
 "metadata": {
  "kernelspec": {
   "display_name": "python3.5",
   "language": "python",
   "name": "python3.5"
  },
  "language_info": {
   "codemirror_mode": {
    "name": "ipython",
    "version": 3
   },
   "file_extension": ".py",
   "mimetype": "text/x-python",
   "name": "python",
   "nbconvert_exporter": "python",
   "pygments_lexer": "ipython3",
   "version": "3.5.3"
  }
 },
 "nbformat": 4,
 "nbformat_minor": 2
}
